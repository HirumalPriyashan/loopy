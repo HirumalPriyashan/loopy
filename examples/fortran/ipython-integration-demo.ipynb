{
 "cells": [
  {
   "cell_type": "markdown",
   "metadata": {},
   "source": [
    "# Loopy IPython Integration Demo"
   ]
  },
  {
   "cell_type": "code",
   "execution_count": 1,
   "metadata": {},
   "outputs": [],
   "source": [
    "%load_ext loopy.ipython_ext"
   ]
  },
  {
   "cell_type": "markdown",
   "metadata": {},
   "source": [
    "## Without transform code"
   ]
  },
  {
   "cell_type": "code",
   "execution_count": 2,
   "metadata": {},
   "outputs": [
    {
     "name": "stderr",
     "output_type": "stream",
     "text": [
      "/home/kaushikggg/pack/loopy_kc_env/src/loopy/loopy/frontend/fortran/translator.py:807: LoopyWarning: 'lang_version' was not passed to make_function(). To avoid this warning, pass lang_version=(2018, 2) in this invocation. (Or say 'from loopy.version import LOOPY_USE_LANGUAGE_VERSION_2018_2' in the global scope of the calling frame.)\n",
      "  seq_dependencies=seq_dependencies,\n"
     ]
    }
   ],
   "source": [
    "%%fortran_kernel\n",
    "\n",
    "subroutine fill(out, a, n)\n",
    "  implicit none\n",
    "\n",
    "  real*8 a, out(n)\n",
    "  integer n, i\n",
    "\n",
    "  do i = 1, n\n",
    "    out(i) = a\n",
    "  end do\n",
    "end"
   ]
  },
  {
   "cell_type": "code",
   "execution_count": 3,
   "metadata": {},
   "outputs": [
    {
     "name": "stdout",
     "output_type": "stream",
     "text": [
      "---------------------------------------------------------------------------\n",
      "KERNEL: fill\n",
      "---------------------------------------------------------------------------\n",
      "ARGUMENTS:\n",
      "a: ValueArg, type: np:dtype('float64')\n",
      "n: ValueArg, type: np:dtype('int32')\n",
      "out: type: np:dtype('float64'), shape: (n), dim_tags: (N0:stride:1) aspace: global\n",
      "---------------------------------------------------------------------------\n",
      "DOMAINS:\n",
      "[n] -> { [i] : 0 <= i < n }\n",
      "---------------------------------------------------------------------------\n",
      "INAME IMPLEMENTATION TAGS:\n",
      "i: None\n",
      "---------------------------------------------------------------------------\n",
      "INSTRUCTIONS:\n",
      "for i\n",
      "  \u001b[36mout[i]\u001b[0m = \u001b[35ma\u001b[0m  {id=\u001b[32minsn0\u001b[0m}\n",
      "end i\n",
      "---------------------------------------------------------------------------\n"
     ]
    }
   ],
   "source": [
    "print(prog)"
   ]
  },
  {
   "cell_type": "markdown",
   "metadata": {},
   "source": [
    "## With transform code"
   ]
  },
  {
   "cell_type": "code",
   "execution_count": 4,
   "metadata": {},
   "outputs": [],
   "source": [
    "split_amount = 128"
   ]
  },
  {
   "cell_type": "code",
   "execution_count": 8,
   "metadata": {},
   "outputs": [],
   "source": [
    "%%transformed_fortran_kernel\n",
    "\n",
    "subroutine tr_fill(out, a, n)\n",
    "  implicit none\n",
    "\n",
    "  real*8 a, out(n)\n",
    "  integer n, i\n",
    "\n",
    "  do i = 1, n\n",
    "    out(i) = a\n",
    "  end do\n",
    "end\n",
    "\n",
    "!$loopy begin\n",
    "!\n",
    "! tr_fill = lp.parse_fortran(SOURCE)\n",
    "! tr_fill = lp.split_iname(tr_fill, \"i\", split_amount,\n",
    "!     outer_tag=\"g.0\", inner_tag=\"l.0\")\n",
    "! RESULT = tr_fill\n",
    "!\n",
    "!$loopy end"
   ]
  },
  {
   "cell_type": "code",
   "execution_count": 10,
   "metadata": {},
   "outputs": [
    {
     "name": "stdout",
     "output_type": "stream",
     "text": [
      "---------------------------------------------------------------------------\n",
      "KERNEL: tr_fill\n",
      "---------------------------------------------------------------------------\n",
      "ARGUMENTS:\n",
      "a: ValueArg, type: np:dtype('float64')\n",
      "n: ValueArg, type: np:dtype('int32')\n",
      "out: type: np:dtype('float64'), shape: (n), dim_tags: (N0:stride:1) aspace: global\n",
      "---------------------------------------------------------------------------\n",
      "DOMAINS:\n",
      "[n] -> { [i_outer, i_inner] : i_inner >= 0 and -128i_outer <= i_inner <= 127 and i_inner < n - 128i_outer }\n",
      "---------------------------------------------------------------------------\n",
      "INAME IMPLEMENTATION TAGS:\n",
      "i_inner: l.0\n",
      "i_outer: g.0\n",
      "---------------------------------------------------------------------------\n",
      "INSTRUCTIONS:\n",
      "for i_inner, i_outer\n",
      "    \u001b[36mout[i_inner + i_outer*128]\u001b[0m = \u001b[35ma\u001b[0m  {id=\u001b[32minsn0\u001b[0m}\n",
      "end i_inner, i_outer\n",
      "---------------------------------------------------------------------------\n"
     ]
    }
   ],
   "source": [
    "print(prog)"
   ]
  },
  {
   "cell_type": "code",
   "execution_count": null,
   "metadata": {},
   "outputs": [],
   "source": []
  }
 ],
 "metadata": {
  "kernelspec": {
   "display_name": "Python 3",
   "language": "python",
   "name": "python3"
  },
  "language_info": {
   "codemirror_mode": {
    "name": "ipython",
    "version": 3
   },
   "file_extension": ".py",
   "mimetype": "text/x-python",
   "name": "python",
   "nbconvert_exporter": "python",
   "pygments_lexer": "ipython3",
   "version": "3.6.8"
  }
 },
 "nbformat": 4,
 "nbformat_minor": 1
}
